{
 "cells": [
  {
   "cell_type": "code",
   "execution_count": 18,
   "metadata": {},
   "outputs": [
    {
     "name": "stdout",
     "output_type": "stream",
     "text": [
      "Requirement already satisfied: reynir in /home/haukur/.local/lib/python3.8/site-packages (3.5.5)\n",
      "Requirement already satisfied: cffi>=1.15.1 in /home/haukur/.local/lib/python3.8/site-packages (from reynir) (1.16.0)\n",
      "Requirement already satisfied: typing-extensions in /home/haukur/.local/lib/python3.8/site-packages (from reynir) (4.3.0)\n",
      "Requirement already satisfied: tokenizer>=3.4.3 in /home/haukur/.local/lib/python3.8/site-packages (from reynir) (3.4.3)\n",
      "Requirement already satisfied: islenska>=0.4.8 in /home/haukur/.local/lib/python3.8/site-packages (from reynir) (1.0.0)\n",
      "Requirement already satisfied: pycparser in /home/haukur/.local/lib/python3.8/site-packages (from cffi>=1.15.1->reynir) (2.22)\n"
     ]
    }
   ],
   "source": [
    "!pip3 install reynir"
   ]
  },
  {
   "cell_type": "code",
   "execution_count": 19,
   "metadata": {},
   "outputs": [],
   "source": [
    "import pandas as pd\n",
    "\n",
    "df = pd.read_csv('./data/is.tsv', sep='\\t')"
   ]
  },
  {
   "cell_type": "code",
   "execution_count": 20,
   "metadata": {},
   "outputs": [
    {
     "data": {
      "text/html": [
       "<div>\n",
       "<style scoped>\n",
       "    .dataframe tbody tr th:only-of-type {\n",
       "        vertical-align: middle;\n",
       "    }\n",
       "\n",
       "    .dataframe tbody tr th {\n",
       "        vertical-align: top;\n",
       "    }\n",
       "\n",
       "    .dataframe thead th {\n",
       "        text-align: right;\n",
       "    }\n",
       "</style>\n",
       "<table border=\"1\" class=\"dataframe\">\n",
       "  <thead>\n",
       "    <tr style=\"text-align: right;\">\n",
       "      <th></th>\n",
       "      <th>word</th>\n",
       "      <th>valence</th>\n",
       "      <th>arousal</th>\n",
       "      <th>dominance</th>\n",
       "      <th>joy</th>\n",
       "      <th>anger</th>\n",
       "      <th>sadness</th>\n",
       "      <th>fear</th>\n",
       "      <th>disgust</th>\n",
       "    </tr>\n",
       "  </thead>\n",
       "  <tbody>\n",
       "    <tr>\n",
       "      <th>0</th>\n",
       "      <td>jarðbark</td>\n",
       "      <td>4.90</td>\n",
       "      <td>4.20</td>\n",
       "      <td>5.01</td>\n",
       "      <td>1.89</td>\n",
       "      <td>1.63</td>\n",
       "      <td>1.57</td>\n",
       "      <td>1.66</td>\n",
       "      <td>1.62</td>\n",
       "    </tr>\n",
       "    <tr>\n",
       "      <th>1</th>\n",
       "      <td>abalone</td>\n",
       "      <td>5.10</td>\n",
       "      <td>4.22</td>\n",
       "      <td>5.20</td>\n",
       "      <td>1.96</td>\n",
       "      <td>1.58</td>\n",
       "      <td>1.50</td>\n",
       "      <td>1.57</td>\n",
       "      <td>1.62</td>\n",
       "    </tr>\n",
       "    <tr>\n",
       "      <th>2</th>\n",
       "      <td>láta af</td>\n",
       "      <td>3.85</td>\n",
       "      <td>4.32</td>\n",
       "      <td>4.55</td>\n",
       "      <td>1.29</td>\n",
       "      <td>2.21</td>\n",
       "      <td>2.16</td>\n",
       "      <td>2.18</td>\n",
       "      <td>2.24</td>\n",
       "    </tr>\n",
       "    <tr>\n",
       "      <th>3</th>\n",
       "      <td>brottfall</td>\n",
       "      <td>3.10</td>\n",
       "      <td>4.59</td>\n",
       "      <td>3.80</td>\n",
       "      <td>1.27</td>\n",
       "      <td>2.30</td>\n",
       "      <td>2.29</td>\n",
       "      <td>2.38</td>\n",
       "      <td>2.22</td>\n",
       "    </tr>\n",
       "    <tr>\n",
       "      <th>4</th>\n",
       "      <td>abbey</td>\n",
       "      <td>4.90</td>\n",
       "      <td>4.20</td>\n",
       "      <td>5.01</td>\n",
       "      <td>1.89</td>\n",
       "      <td>1.63</td>\n",
       "      <td>1.57</td>\n",
       "      <td>1.66</td>\n",
       "      <td>1.62</td>\n",
       "    </tr>\n",
       "  </tbody>\n",
       "</table>\n",
       "</div>"
      ],
      "text/plain": [
       "        word  valence  arousal  dominance   joy  anger  sadness  fear  disgust\n",
       "0   jarðbark     4.90     4.20       5.01  1.89   1.63     1.57  1.66     1.62\n",
       "1    abalone     5.10     4.22       5.20  1.96   1.58     1.50  1.57     1.62\n",
       "2    láta af     3.85     4.32       4.55  1.29   2.21     2.16  2.18     2.24\n",
       "3  brottfall     3.10     4.59       3.80  1.27   2.30     2.29  2.38     2.22\n",
       "4      abbey     4.90     4.20       5.01  1.89   1.63     1.57  1.66     1.62"
      ]
     },
     "execution_count": 20,
     "metadata": {},
     "output_type": "execute_result"
    }
   ],
   "source": [
    "df.head()"
   ]
  },
  {
   "cell_type": "code",
   "execution_count": 21,
   "metadata": {},
   "outputs": [
    {
     "data": {
      "text/plain": [
       "<BarContainer object of 8 artists>"
      ]
     },
     "execution_count": 21,
     "metadata": {},
     "output_type": "execute_result"
    },
    {
     "data": {
      "image/png": "[encoded data removed]",
      "text/plain": [
       "<Figure size 720x360 with 1 Axes>"
      ]
     },
     "metadata": {
      "needs_background": "light"
     },
     "output_type": "display_data"
    },
    {
     "data": {
      "image/png": "[encoded data removed]",
      "text/plain": [
       "<Figure size 720x360 with 1 Axes>"
      ]
     },
     "metadata": {
      "needs_background": "light"
     },
     "output_type": "display_data"
    },
    {
     "data": {
      "image/png": "[encoded data removed]",
      "text/plain": [
       "<Figure size 720x360 with 1 Axes>"
      ]
     },
     "metadata": {
      "needs_background": "light"
     },
     "output_type": "display_data"
    }
   ],
   "source": [
    "from matplotlib import pyplot as plt\n",
    "\n",
    "# max min values\n",
    "columns = df.columns[1:]\n",
    "average_from_each_column = [df[column].mean() for column in columns]\n",
    "\n",
    "plt.figure(figsize=(10, 5))\n",
    "plt.title('Max values')\n",
    "plt.bar(columns, [df[column].max() for column in columns])\n",
    "\n",
    "plt.figure(figsize=(10, 5))\n",
    "plt.title('Min values')\n",
    "plt.bar(columns, [df[column].min() for column in columns])\n",
    "\n",
    "plt.figure(figsize=(10, 5))\n",
    "plt.title('Mean values')\n",
    "plt.bar(columns, [df[column].mean() for column in columns])"
   ]
  },
  {
   "cell_type": "code",
   "execution_count": 22,
   "metadata": {},
   "outputs": [
    {
     "name": "stdout",
     "output_type": "stream",
     "text": [
      "valence\n",
      "['Do', 'njóttu', 'Be', 'Te', 'Ást', 'EA', 'Matur', 'Go', 'Rosa', 'vinátta']\n",
      "arousal\n",
      "['Ray', 'myrt', 'myrtur', 'glæpa', 'smita', 'morða', 'dóu', 'gruns', 'innrás', 'glæpi']\n",
      "dominance\n",
      "['Do', 'Be', 'EA', 'Go', 'We', 'Te', 'Us', 'Up', 'MW', '\\ue926']\n",
      "joy\n",
      "['afa', 'takk', 'slökun', 'Verð', 'lilja', 'kærasta', 'Þakka', 'ódýrt', 'ströndina', 'fagna']\n",
      "anger\n",
      "['rán', 'glæpi', 'smit', 'nauðgari', 'myrtir', 'nauðgað', 'myrtur', 'ISIS', 'myrti', 'óvinur']\n",
      "sadness\n",
      "['rán', 'glæpi', 'myrtur', 'nauðgari', 'myrtir', 'nauðgað', 'smit', 'myrti', 'ISIS', 'manndráp']\n",
      "fear\n",
      "['rán', 'glæpi', 'myrtur', 'myrtir', 'myrti', 'ISIS', 'smit', 'nauðgari', 'nauðgað', 'glæpir']\n",
      "disgust\n",
      "['rán', 'smit', 'glæpi', 'nauðgari', 'óvinur', 'rúst', 'nauðgað', 'saur', 'refsað', 'prófastur']\n"
     ]
    }
   ],
   "source": [
    "# sort by largest value\n",
    "columns = df.columns[1:]\n",
    "\n",
    "for column in columns:\n",
    "    print(column)\n",
    "    print([str(word) for word in df.sort_values(by=column, ascending=False)[:10]['word']])\n",
    "    "
   ]
  },
  {
   "cell_type": "code",
   "execution_count": 23,
   "metadata": {},
   "outputs": [
    {
     "name": "stdout",
     "output_type": "stream",
     "text": [
      "['valence', 'arousal', 'dominance', 'joy', 'anger', 'sadness', 'fear', 'disgust']\n",
      "[4.96, 3.82, 5.2, 1.84, 1.44, 1.38, 1.46, 1.44]\n"
     ]
    }
   ],
   "source": [
    "# search for a word\n",
    "query = \"a\"\n",
    "score = df.query('word == @query').values[0][1:].tolist()\n",
    "\n",
    "print(df.columns[1:].tolist())\n",
    "print(score)"
   ]
  }
 ],
 "metadata": {
  "kernelspec": {
   "display_name": "pytorch",
   "language": "python",
   "name": "python3"
  },
  "language_info": {
   "codemirror_mode": {
    "name": "ipython",
    "version": 3
   },
   "file_extension": ".py",
   "mimetype": "text/x-python",
   "name": "python",
   "nbconvert_exporter": "python",
   "pygments_lexer": "ipython3",
   "version": "3.8.10"
  }
 },
 "nbformat": 4,
 "nbformat_minor": 2
}
